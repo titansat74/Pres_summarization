{
 "cells": [
  {
   "cell_type": "code",
   "execution_count": 1,
   "id": "b2d85979",
   "metadata": {},
   "outputs": [],
   "source": [
    "import warnings\n",
    "warnings.filterwarnings(\"ignore\")"
   ]
  },
  {
   "cell_type": "code",
   "execution_count": 2,
   "id": "5c3908f6",
   "metadata": {},
   "outputs": [],
   "source": [
    "import wikipedia\n",
    "import pandas as pd\n",
    "import requests\n",
    "import re\n",
    "from bs4 import BeautifulSoup\n",
    "import pickle"
   ]
  },
  {
   "cell_type": "code",
   "execution_count": 78,
   "id": "fd4ca63d",
   "metadata": {},
   "outputs": [],
   "source": [
    "def delete_endtext(tex: str):\n",
    "    subtex = tex[0:tex.find('\\n\\n== Notes ==\\n')]\n",
    "    return subtex"
   ]
  },
  {
   "cell_type": "code",
   "execution_count": null,
   "id": "c05a3699",
   "metadata": {},
   "outputs": [],
   "source": [
    "url = 'https://en.wikipedia.org/wiki/List_of_presidents_of_the_United_States'\n",
    "res = requests.get(url)\n",
    "#print(res.status_code)\n",
    "\n",
    "tableclass = 'wikitable sortable jquery-tablesorter'\n",
    "soup = BeautifulSoup(res.text, 'html.parser')\n",
    "tag = soup.find('table',{'class':'wikitable'})\n",
    "table=pd.read_html(str(tag))[0]\n",
    "\n",
    "path = 'data/texts.pkl'\n",
    "with open(path, 'wb') as f:\n",
    "    pickle.dump(texts,f)"
   ]
  },
  {
   "cell_type": "code",
   "execution_count": 4,
   "id": "8f9bb8dd",
   "metadata": {},
   "outputs": [],
   "source": [
    "path = 'data/table.pkl'\n",
    "f = open(path, 'rb')\n",
    "table = pickle.load(f)"
   ]
  },
  {
   "cell_type": "code",
   "execution_count": 5,
   "id": "4d064008",
   "metadata": {},
   "outputs": [],
   "source": [
    "presidents = table.drop(columns=['Portrait','Party[b][15]'])\n",
    "presidents = presidents.replace('[*]','')\n",
    "\n",
    "presidents.columns = presidents.columns.str.replace(r'(\\[\\S+\\])','')\n",
    "presidents.columns = presidents.columns.str.replace(r'(\\(\\S+\\))','')\n",
    "\n",
    "presidents.rename(columns={'Party.1':'Party'}, inplace = True)\n",
    "presidents.insert(2,'Birth - Death','')\n",
    "presidents.set_index('No.', inplace = True)\n",
    "\n",
    "presidents = presidents.apply(lambda row: row.str.replace(r'(\\[\\S+\\])',''))\n",
    "\n",
    "presidents['Birth - Death'] = presidents['Name'].str.extract(r'(\\d+\\S\\d+)')\n",
    "presidents['Name'] = presidents['Name'].str.replace(r'(\\(\\d+\\S\\d+\\))','')\n",
    "presidents['Name'] = presidents['Name'].str.replace(r'(\\(b. \\d+\\))','')"
   ]
  },
  {
   "cell_type": "code",
   "execution_count": 11,
   "id": "d842a80e",
   "metadata": {},
   "outputs": [
    {
     "data": {
      "text/html": [
       "<div>\n",
       "<style scoped>\n",
       "    .dataframe tbody tr th:only-of-type {\n",
       "        vertical-align: middle;\n",
       "    }\n",
       "\n",
       "    .dataframe tbody tr th {\n",
       "        vertical-align: top;\n",
       "    }\n",
       "\n",
       "    .dataframe thead th {\n",
       "        text-align: right;\n",
       "    }\n",
       "</style>\n",
       "<table border=\"1\" class=\"dataframe\">\n",
       "  <thead>\n",
       "    <tr style=\"text-align: right;\">\n",
       "      <th></th>\n",
       "      <th>Name</th>\n",
       "      <th>Birth - Death</th>\n",
       "      <th>Term</th>\n",
       "      <th>Party</th>\n",
       "      <th>Election</th>\n",
       "      <th>Vice President</th>\n",
       "    </tr>\n",
       "    <tr>\n",
       "      <th>No.</th>\n",
       "      <th></th>\n",
       "      <th></th>\n",
       "      <th></th>\n",
       "      <th></th>\n",
       "      <th></th>\n",
       "      <th></th>\n",
       "    </tr>\n",
       "  </thead>\n",
       "  <tbody>\n",
       "    <tr>\n",
       "      <th>1</th>\n",
       "      <td>George Washington</td>\n",
       "      <td>1732–1799</td>\n",
       "      <td>April 30, 1789–March 4, 1797</td>\n",
       "      <td>Unaffiliated</td>\n",
       "      <td>1788–1789 1792</td>\n",
       "      <td>John Adams</td>\n",
       "    </tr>\n",
       "    <tr>\n",
       "      <th>2</th>\n",
       "      <td>John Adams</td>\n",
       "      <td>1735–1826</td>\n",
       "      <td>March 4, 1797–March 4, 1801</td>\n",
       "      <td>Federalist</td>\n",
       "      <td>1796</td>\n",
       "      <td>Thomas Jefferson</td>\n",
       "    </tr>\n",
       "    <tr>\n",
       "      <th>3</th>\n",
       "      <td>Thomas Jefferson</td>\n",
       "      <td>1743–1826</td>\n",
       "      <td>March 4, 1801–March 4, 1809</td>\n",
       "      <td>Democratic-Republican</td>\n",
       "      <td>1800 1804</td>\n",
       "      <td>Aaron Burr George Clinton</td>\n",
       "    </tr>\n",
       "    <tr>\n",
       "      <th>4</th>\n",
       "      <td>James Madison</td>\n",
       "      <td>1751–1836</td>\n",
       "      <td>March 4, 1809–March 4, 1817</td>\n",
       "      <td>Democratic-Republican</td>\n",
       "      <td>1808 1812</td>\n",
       "      <td>George Clinton Vacant afterApril 20, 1812 Elbr...</td>\n",
       "    </tr>\n",
       "    <tr>\n",
       "      <th>5</th>\n",
       "      <td>James Monroe</td>\n",
       "      <td>1758–1831</td>\n",
       "      <td>March 4, 1817–March 4, 1825</td>\n",
       "      <td>Democratic-Republican</td>\n",
       "      <td>1816 1820</td>\n",
       "      <td>Daniel D. Tompkins</td>\n",
       "    </tr>\n",
       "  </tbody>\n",
       "</table>\n",
       "</div>"
      ],
      "text/plain": [
       "                  Name Birth - Death                          Term  \\\n",
       "No.                                                                  \n",
       "1    George Washington     1732–1799  April 30, 1789–March 4, 1797   \n",
       "2           John Adams     1735–1826   March 4, 1797–March 4, 1801   \n",
       "3     Thomas Jefferson     1743–1826   March 4, 1801–March 4, 1809   \n",
       "4        James Madison     1751–1836   March 4, 1809–March 4, 1817   \n",
       "5         James Monroe     1758–1831   March 4, 1817–March 4, 1825   \n",
       "\n",
       "                     Party        Election  \\\n",
       "No.                                          \n",
       "1             Unaffiliated  1788–1789 1792   \n",
       "2               Federalist            1796   \n",
       "3    Democratic-Republican       1800 1804   \n",
       "4    Democratic-Republican       1808 1812   \n",
       "5    Democratic-Republican       1816 1820   \n",
       "\n",
       "                                        Vice President  \n",
       "No.                                                     \n",
       "1                                           John Adams  \n",
       "2                                     Thomas Jefferson  \n",
       "3                            Aaron Burr George Clinton  \n",
       "4    George Clinton Vacant afterApril 20, 1812 Elbr...  \n",
       "5                                   Daniel D. Tompkins  "
      ]
     },
     "execution_count": 11,
     "metadata": {},
     "output_type": "execute_result"
    }
   ],
   "source": [
    "presidents.head()"
   ]
  },
  {
   "cell_type": "code",
   "execution_count": 31,
   "id": "246ade2b",
   "metadata": {
    "collapsed": true
   },
   "outputs": [
    {
     "name": "stdout",
     "output_type": "stream",
     "text": [
      "George_Washington\n",
      "John_Adams\n",
      "Thomas_Jefferson\n",
      "James_Madison\n",
      "James_Monroe\n",
      "John_Quincy_Adams\n",
      "Andrew_Jackson\n",
      "Martin_Van_Buren\n",
      "William_Henry_Harrison\n",
      "John_Tyler\n",
      "James_K._Polk\n",
      "Zachary_Taylor\n",
      "Millard_Fillmore\n",
      "Franklin_Pierce\n",
      "James_Buchanan\n",
      "Abraham_Lincoln\n",
      "Andrew_Johnson\n",
      "Ulysses_S._Grant\n",
      "Rutherford_B._Hayes\n",
      "James_A._Garfield\n",
      "Chester_A._Arthur\n",
      "Grover_Cleveland\n",
      "Benjamin_Harrison\n",
      "William_McKinley\n",
      "Theodore_Roosevelt\n",
      "William_Howard_Taft\n",
      "Woodrow_Wilson\n",
      "Warren_G._Harding\n",
      "Calvin_Coolidge\n",
      "Herbert_Hoover\n",
      "Franklin_D._Roosevelt\n",
      "Harry_S._Truman\n",
      "Dwight_D._Eisenhower\n",
      "John_F._Kennedy\n",
      "Lyndon_B._Johnson\n",
      "Richard_Nixon\n",
      "Gerald_Ford\n",
      "Jimmy_Carter\n",
      "Ronald_Reagan\n",
      "George_H._W._Bush\n",
      "Bill_Clinton\n",
      "George_W._Bush\n",
      "Barack_Obama\n",
      "Donald_Trump\n",
      "Joe_Biden\n"
     ]
    }
   ],
   "source": [
    "pres_list = presidents['Name'].drop_duplicates().str.replace(' ','_').to_list()\n",
    "texts = pd.Series(index = pres_list, dtype = 'object')\n",
    "\n",
    "#next_pres = 'Lyndon_B._Johnson'\n",
    "#for pres in pres_list[pres_list.index(next_pres):]:\n",
    "for pres in pres_list:\n",
    "    wikisearch = wikipedia.page(pres, auto_suggest = False)\n",
    "    texts[pres] = wikisearch.content\n",
    "    print(pres)"
   ]
  },
  {
   "cell_type": "code",
   "execution_count": 35,
   "id": "de60324b",
   "metadata": {},
   "outputs": [],
   "source": [
    "path = 'data/texts.pkl'\n",
    "with open(path, 'wb') as f:\n",
    "    pickle.dump(texts,f)"
   ]
  },
  {
   "cell_type": "code",
   "execution_count": 57,
   "id": "3ee7885e",
   "metadata": {},
   "outputs": [],
   "source": [
    "path = 'data/texts.pkl'\n",
    "f = open(path, 'rb')\n",
    "rawtexts = pickle.load(f)"
   ]
  },
  {
   "cell_type": "code",
   "execution_count": 33,
   "id": "1a1a77d2",
   "metadata": {
    "scrolled": false
   },
   "outputs": [
    {
     "data": {
      "text/plain": [
       "Index(['George_Washington', 'John_Adams', 'Thomas_Jefferson', 'James_Madison',\n",
       "       'James_Monroe', 'John_Quincy_Adams', 'Andrew_Jackson',\n",
       "       'Martin_Van_Buren', 'William_Henry_Harrison', 'John_Tyler',\n",
       "       'James_K._Polk', 'Zachary_Taylor', 'Millard_Fillmore',\n",
       "       'Franklin_Pierce', 'James_Buchanan', 'Abraham_Lincoln',\n",
       "       'Andrew_Johnson', 'Ulysses_S._Grant', 'Rutherford_B._Hayes',\n",
       "       'James_A._Garfield', 'Chester_A._Arthur', 'Grover_Cleveland',\n",
       "       'Benjamin_Harrison', 'William_McKinley', 'Theodore_Roosevelt',\n",
       "       'William_Howard_Taft', 'Woodrow_Wilson', 'Warren_G._Harding',\n",
       "       'Calvin_Coolidge', 'Herbert_Hoover', 'Franklin_D._Roosevelt',\n",
       "       'Harry_S._Truman', 'Dwight_D._Eisenhower', 'John_F._Kennedy',\n",
       "       'Lyndon_B._Johnson', 'Richard_Nixon', 'Gerald_Ford', 'Jimmy_Carter',\n",
       "       'Ronald_Reagan', 'George_H._W._Bush', 'Bill_Clinton', 'George_W._Bush',\n",
       "       'Barack_Obama', 'Donald_Trump', 'Joe_Biden'],\n",
       "      dtype='object')"
      ]
     },
     "execution_count": 33,
     "metadata": {},
     "output_type": "execute_result"
    }
   ],
   "source": [
    "texts.index"
   ]
  },
  {
   "cell_type": "code",
   "execution_count": 58,
   "id": "c431aaba",
   "metadata": {},
   "outputs": [
    {
     "data": {
      "text/plain": [
       "pandas.core.series.Series"
      ]
     },
     "execution_count": 58,
     "metadata": {},
     "output_type": "execute_result"
    }
   ],
   "source": [
    "type(rawtexts)"
   ]
  },
  {
   "cell_type": "code",
   "execution_count": 38,
   "id": "5b8ab4d9",
   "metadata": {},
   "outputs": [
    {
     "data": {
      "text/plain": [
       "(59,)"
      ]
     },
     "execution_count": 38,
     "metadata": {},
     "output_type": "execute_result"
    }
   ],
   "source": [
    "texts['Theodore_Roosevelt'].shape"
   ]
  },
  {
   "cell_type": "code",
   "execution_count": 40,
   "id": "c45f2e56",
   "metadata": {},
   "outputs": [
    {
     "data": {
      "text/plain": [
       "0     Theodore  Roosevelt Jr. ( ROH-zə-velt; October...\n",
       "1      \\nTheodore Roosevelt Jr. was born on October ...\n",
       "2     Roosevelt was homeschooled, mostly by tutors a...\n",
       "3     While at Harvard, Roosevelt began a systematic...\n",
       "4     In 1880, Roosevelt married socialite Alice Hat...\n",
       "5     Roosevelt was a member of the New York State A...\n",
       "6     With numerous presidential hopefuls from whom ...\n",
       "7     Roosevelt first visited the Dakota Territory i...\n",
       "8     On December 2, 1886, Roosevelt married his chi...\n",
       "9     Upon Roosevelt's return to New York in 1886, R...\n",
       "10    After Benjamin Harrison unexpectedly defeated ...\n",
       "11    In 1894, a group of reform Republicans approac...\n",
       "12    In the 1896 presidential election, Roosevelt b...\n",
       "13    With the beginning of the Spanish–American War...\n",
       "14    After leaving Cuba in August 1898, the Rough R...\n",
       "15    In November 1899, Vice President Garret Hobart...\n",
       "16    On September 6, 1901, President McKinley was a...\n",
       "17    For his aggressive use of the 1890 Sherman Ant...\n",
       "18    In May 1902, anthracite coal miners went on st...\n",
       "19    During Roosevelt's second year in office it wa...\n",
       "20    Merchants complained that some railroad rates ...\n",
       "21    Roosevelt responded to public anger over the a...\n",
       "22    Of all Roosevelt's achievements, he was proude...\n",
       "23    In 1907, Roosevelt faced the greatest domestic...\n",
       "24    The American annexation of Hawaii in 1898 was ...\n",
       "25    Success in the war against Spain and the new e...\n",
       "26    As president, he primarily focused the nation'...\n",
       "27    Building on McKinley's effective use of the pr...\n",
       "28    The control and management of the Republican P...\n",
       "29    As his second term progressed, Roosevelt moved...\n",
       "30    Roosevelt's rhetoric was characterized by an i...\n",
       "31    Roosevelt enjoyed being president and was stil...\n",
       "32    In March 1909, the ex-president left the count...\n",
       "33    Roosevelt had attempted to refashion Taft into...\n",
       "34    Taft was world leader for arbitration as a gua...\n",
       "35    In November 1911, a group of Ohio Republicans ...\n",
       "36    According to Lewis L. Gould, in 1912    Roosev...\n",
       "37    Once his defeat at the Republican convention a...\n",
       "38    On October 14, 1912, while arriving at a campa...\n",
       "39    After the Democrats nominated Governor Woodrow...\n",
       "40    In 1907 a friend of Roosevelt's, John Augustin...\n",
       "41    Roosevelt returned to the United States in May...\n",
       "42    When the First World War began in 1914, Roosev...\n",
       "43    Roosevelt was an early supporter of the modern...\n",
       "44    Roosevelt's attacks on Wilson helped the Repub...\n",
       "45    On the night of January 5, 1919, Roosevelt suf...\n",
       "46    Roosevelt was a prolific author, writing with ...\n",
       "47    Roosevelt intensely disliked being called \"Ted...\n",
       "48    Roosevelt had a lifelong interest in pursuing ...\n",
       "49    Historians have often emphasized Roosevelt's w...\n",
       "50    Roosevelt attended church regularly and was a ...\n",
       "51    When he assumed the presidency, Roosevelt reas...\n",
       "52    In the analysis by Henry Kissinger, Roosevelt ...\n",
       "53    Historians credit Roosevelt for changing the n...\n",
       "54    Dalton says Roosevelt is remembered as \"one of...\n",
       "55    According to David Nasaw, after 1898, when the...\n",
       "56    Roosevelt was included with Presidents George ...\n",
       "57    Theodore Roosevelt was one of the first presid...\n",
       "58                                                     \n",
       "Name: Theodore_Roosevelt, dtype: object"
      ]
     },
     "execution_count": 40,
     "metadata": {},
     "output_type": "execute_result"
    }
   ],
   "source": [
    "texts['Theodore_Roosevelt']"
   ]
  },
  {
   "cell_type": "code",
   "execution_count": 53,
   "id": "3ed047ba",
   "metadata": {},
   "outputs": [
    {
     "ename": "TypeError",
     "evalue": "slice indices must be integers or None or have an __index__ method",
     "output_type": "error",
     "traceback": [
      "\u001b[0;31m---------------------------------------------------------------------------\u001b[0m",
      "\u001b[0;31mTypeError\u001b[0m                                 Traceback (most recent call last)",
      "\u001b[0;32m/var/folders/xm/cjjj7hqs6kj2n5y6q4mmyyvw0000gn/T/ipykernel_16515/2527923109.py\u001b[0m in \u001b[0;36m<module>\u001b[0;34m\u001b[0m\n\u001b[0;32m----> 1\u001b[0;31m \u001b[0mtexts\u001b[0m\u001b[0;34m.\u001b[0m\u001b[0mindex\u001b[0m\u001b[0;34m[\u001b[0m\u001b[0;34m'Thomas_Jefferson'\u001b[0m\u001b[0;34m:\u001b[0m\u001b[0;34m'James_Monroe'\u001b[0m\u001b[0;34m]\u001b[0m\u001b[0;34m\u001b[0m\u001b[0;34m\u001b[0m\u001b[0m\n\u001b[0m",
      "\u001b[0;32m/opt/anaconda3/lib/python3.9/site-packages/pandas/core/indexes/base.py\u001b[0m in \u001b[0;36m__getitem__\u001b[0;34m(self, key)\u001b[0m\n\u001b[1;32m   5056\u001b[0m             \u001b[0;31m# This case is separated from the conditional above to avoid\u001b[0m\u001b[0;34m\u001b[0m\u001b[0;34m\u001b[0m\u001b[0m\n\u001b[1;32m   5057\u001b[0m             \u001b[0;31m# pessimization com.is_bool_indexer and ndim checks.\u001b[0m\u001b[0;34m\u001b[0m\u001b[0;34m\u001b[0m\u001b[0m\n\u001b[0;32m-> 5058\u001b[0;31m             \u001b[0mresult\u001b[0m \u001b[0;34m=\u001b[0m \u001b[0mgetitem\u001b[0m\u001b[0;34m(\u001b[0m\u001b[0mkey\u001b[0m\u001b[0;34m)\u001b[0m\u001b[0;34m\u001b[0m\u001b[0;34m\u001b[0m\u001b[0m\n\u001b[0m\u001b[1;32m   5059\u001b[0m             \u001b[0;31m# Going through simple_new for performance.\u001b[0m\u001b[0;34m\u001b[0m\u001b[0;34m\u001b[0m\u001b[0m\n\u001b[1;32m   5060\u001b[0m             \u001b[0;32mreturn\u001b[0m \u001b[0mtype\u001b[0m\u001b[0;34m(\u001b[0m\u001b[0mself\u001b[0m\u001b[0;34m)\u001b[0m\u001b[0;34m.\u001b[0m\u001b[0m_simple_new\u001b[0m\u001b[0;34m(\u001b[0m\u001b[0mresult\u001b[0m\u001b[0;34m,\u001b[0m \u001b[0mname\u001b[0m\u001b[0;34m=\u001b[0m\u001b[0mself\u001b[0m\u001b[0;34m.\u001b[0m\u001b[0m_name\u001b[0m\u001b[0;34m)\u001b[0m\u001b[0;34m\u001b[0m\u001b[0;34m\u001b[0m\u001b[0m\n",
      "\u001b[0;31mTypeError\u001b[0m: slice indices must be integers or None or have an __index__ method"
     ]
    }
   ],
   "source": [
    "texts.index['Thomas_Jefferson':'James_Monroe']"
   ]
  },
  {
   "cell_type": "code",
   "execution_count": 77,
   "id": "d56c9697",
   "metadata": {},
   "outputs": [
    {
     "name": "stdout",
     "output_type": "stream",
     "text": [
      "-1\n"
     ]
    }
   ],
   "source": [
    "p = ['William_Henry_Harrison']\n",
    "#for pres in rawtexts.index:\n",
    "#for pres in rawtexts.index[rawtexts.index.get_loc('Theodore_Roosevelt'):]:\n",
    "for pres in p: \n",
    "    rawtexts[pres] = delete_endtext(rawtexts[pres])\n",
    "    sections = re.split('\\n==.+==\\n',rawtexts[pres])\n",
    "    texts[pres] = pd.Series(data = sections, name = pres)\n",
    "    texts[pres] = texts[pres][texts[pres] != '\\n'].reset_index(drop = True)\n",
    "\n",
    "    for sect in range(texts[pres].shape[0]):\n",
    "        if texts[pres][sect] == '':\n",
    "            texts[pres] = texts[pres].drop(sect)\n",
    "        else:\n",
    "            char_1 = texts[pres][sect][0]\n",
    "            if (char_1 == '\\n'):\n",
    "                texts[pres][sect] = texts[pres][sect][1:]"
   ]
  },
  {
   "cell_type": "code",
   "execution_count": null,
   "id": "f23ea15c",
   "metadata": {},
   "outputs": [],
   "source": [
    "\\n\\n== Notes ==\\n"
   ]
  },
  {
   "cell_type": "code",
   "execution_count": 143,
   "id": "b73f0ba2",
   "metadata": {},
   "outputs": [],
   "source": [
    "uneek = pd.Series(index = pres_list, dtype='Int64')\n",
    "\n",
    "for pres in uneek.index:\n",
    "    uneek[pres] = len(set(texts[pres].sum().split(' ')))"
   ]
  },
  {
   "cell_type": "code",
   "execution_count": 147,
   "id": "5d5b2813",
   "metadata": {
    "scrolled": true
   },
   "outputs": [
    {
     "name": "stdout",
     "output_type": "stream",
     "text": [
      "Zachary_Taylor 2726 Theodore_Roosevelt 6049\n"
     ]
    }
   ],
   "source": [
    "print(uneek.idxmin(),uneek.min(),uneek.idxmax(),uneek.max())"
   ]
  },
  {
   "cell_type": "code",
   "execution_count": 149,
   "id": "5c3124b1",
   "metadata": {},
   "outputs": [],
   "source": [
    "tot_text = texts.sum()"
   ]
  },
  {
   "cell_type": "code",
   "execution_count": null,
   "id": "6d9854d0",
   "metadata": {},
   "outputs": [],
   "source": []
  }
 ],
 "metadata": {
  "kernelspec": {
   "display_name": "Python 3 (ipykernel)",
   "language": "python",
   "name": "python3"
  },
  "language_info": {
   "codemirror_mode": {
    "name": "ipython",
    "version": 3
   },
   "file_extension": ".py",
   "mimetype": "text/x-python",
   "name": "python",
   "nbconvert_exporter": "python",
   "pygments_lexer": "ipython3",
   "version": "3.9.13"
  }
 },
 "nbformat": 4,
 "nbformat_minor": 5
}
